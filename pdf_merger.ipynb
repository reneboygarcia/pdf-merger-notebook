{
 "cells": [
  {
   "cell_type": "code",
   "execution_count": 3,
   "metadata": {},
   "outputs": [
    {
     "name": "stdout",
     "output_type": "stream",
     "text": [
      "Setup Complete\n"
     ]
    }
   ],
   "source": [
    "import os\n",
    "from PyPDF2 import PdfMerger\n",
    "print(\"Setup Complete\")"
   ]
  },
  {
   "cell_type": "code",
   "execution_count": 4,
   "metadata": {},
   "outputs": [
    {
     "name": "stdout",
     "output_type": "stream",
     "text": [
      "Added: sampel_page_2.pdf\n",
      "Added: sample_page_1.pdf\n",
      "\n",
      "Successfully merged 2 PDFs into sample_output/merged_output.pdf\n"
     ]
    }
   ],
   "source": [
    "\n",
    "def merge_pdfs(input_dir: str, output_filename: str, custom_order: list[str] = None) -> bool:\n",
    "    \"\"\"\n",
    "    Merge all PDF files in the specified directory into a single PDF file.\n",
    "    \n",
    "    Parameters:\n",
    "    input_dir (str): Directory containing PDF files to merge\n",
    "    output_filename (str): Name of the output merged PDF file\n",
    "    custom_order (list, optional): Custom order of PDF files to merge. Defaults to None (alphabetical order).\n",
    "    \n",
    "    Returns:\n",
    "    bool: True if successful, False otherwise\n",
    "    \"\"\"\n",
    "    try:\n",
    "        # Create a PdfMerger object\n",
    "        merger = PdfMerger()\n",
    "        \n",
    "        # Get all PDF files from the directory\n",
    "        pdf_files = [f for f in os.listdir(input_dir) if f.endswith('.pdf')]\n",
    "        \n",
    "        # Sort files to ensure consistent ordering\n",
    "        pdf_files.sort() if custom_order is None else pdf_files.sort(key=lambda x: custom_order.index(x) if x in custom_order else float('inf'))\n",
    "        \n",
    "        # Check if there are any PDF files\n",
    "        if not pdf_files:\n",
    "            print(\"No PDF files found in the specified directory.\")\n",
    "            return False\n",
    "        \n",
    "        # Add each PDF to the merger\n",
    "        for pdf in pdf_files:\n",
    "            file_path = os.path.join(input_dir, pdf)\n",
    "            merger.append(file_path)\n",
    "            print(f\"Added: {pdf}\")\n",
    "        \n",
    "        # Write the merged PDF to a file\n",
    "        merger.write(output_filename)\n",
    "        merger.close()\n",
    "        \n",
    "        print(f\"\\nSuccessfully merged {len(pdf_files)} PDFs into {output_filename}\")\n",
    "        return True\n",
    "        \n",
    "    except Exception as e:\n",
    "        print(f\"An error occurred: {str(e)}\")\n",
    "        return False\n",
    "\n",
    "# Example usage\n",
    "if __name__ == \"__main__\":\n",
    "    # Directory containing PDF files\n",
    "    input_directory = \"sample_input\"\n",
    "    \n",
    "    # Output file name\n",
    "    output_file = \"sample_output/merged_output.pdf\"\n",
    "    \n",
    "    # custom_order = [\"sample_2.pdf\", \"sample_1.pdf\"]\n",
    "    merge_pdfs(input_directory, output_file, custom_order=None)"
   ]
  }
 ],
 "metadata": {
  "kernelspec": {
   "display_name": "base",
   "language": "python",
   "name": "python3"
  },
  "language_info": {
   "codemirror_mode": {
    "name": "ipython",
    "version": 3
   },
   "file_extension": ".py",
   "mimetype": "text/x-python",
   "name": "python",
   "nbconvert_exporter": "python",
   "pygments_lexer": "ipython3",
   "version": "3.10.15"
  }
 },
 "nbformat": 4,
 "nbformat_minor": 2
}
